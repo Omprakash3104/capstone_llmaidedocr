{
  "nbformat": 4,
  "nbformat_minor": 0,
  "metadata": {
    "colab": {
      "provenance": []
    },
    "kernelspec": {
      "name": "python3",
      "display_name": "Python 3"
    },
    "language_info": {
      "name": "python"
    }
  },
  "cells": [
    {
      "cell_type": "code",
      "source": [
        "!apt-get update\n",
        "!apt-get install -y tesseract-ocr\n",
        "!pip install pytesseract\n"
      ],
      "metadata": {
        "colab": {
          "base_uri": "https://localhost:8080/"
        },
        "id": "V-4TDPEn4Qm_",
        "outputId": "0c418998-84c1-45db-8be0-db7ec5386996"
      },
      "execution_count": null,
      "outputs": [
        {
          "output_type": "stream",
          "name": "stdout",
          "text": [
            "\r0% [Working]\r            \rHit:1 https://cloud.r-project.org/bin/linux/ubuntu jammy-cran40/ InRelease\n",
            "Hit:2 https://developer.download.nvidia.com/compute/cuda/repos/ubuntu2204/x86_64  InRelease\n",
            "Get:3 http://security.ubuntu.com/ubuntu jammy-security InRelease [129 kB]\n",
            "Hit:4 https://r2u.stat.illinois.edu/ubuntu jammy InRelease\n",
            "Hit:5 http://archive.ubuntu.com/ubuntu jammy InRelease\n",
            "Get:6 http://archive.ubuntu.com/ubuntu jammy-updates InRelease [128 kB]\n",
            "Hit:7 https://ppa.launchpadcontent.net/deadsnakes/ppa/ubuntu jammy InRelease\n",
            "Hit:8 https://ppa.launchpadcontent.net/graphics-drivers/ppa/ubuntu jammy InRelease\n",
            "Hit:9 https://ppa.launchpadcontent.net/ubuntugis/ppa/ubuntu jammy InRelease\n",
            "Hit:10 http://archive.ubuntu.com/ubuntu jammy-backports InRelease\n",
            "Get:11 http://archive.ubuntu.com/ubuntu jammy-updates/universe amd64 Packages [1,521 kB]\n",
            "Get:12 http://archive.ubuntu.com/ubuntu jammy-updates/main amd64 Packages [2,904 kB]\n",
            "Fetched 4,683 kB in 2s (2,258 kB/s)\n",
            "Reading package lists... Done\n",
            "W: Skipping acquire of configured file 'main/source/Sources' as repository 'https://r2u.stat.illinois.edu/ubuntu jammy InRelease' does not seem to provide it (sources.list entry misspelt?)\n",
            "Reading package lists... Done\n",
            "Building dependency tree... Done\n",
            "Reading state information... Done\n",
            "tesseract-ocr is already the newest version (4.1.1-2.1build1).\n",
            "0 upgraded, 0 newly installed, 0 to remove and 22 not upgraded.\n",
            "Requirement already satisfied: pytesseract in /usr/local/lib/python3.11/dist-packages (0.3.13)\n",
            "Requirement already satisfied: packaging>=21.3 in /usr/local/lib/python3.11/dist-packages (from pytesseract) (24.2)\n",
            "Requirement already satisfied: Pillow>=8.0.0 in /usr/local/lib/python3.11/dist-packages (from pytesseract) (11.1.0)\n"
          ]
        }
      ]
    },
    {
      "cell_type": "code",
      "source": [
        "!apt-get install poppler-utils\n",
        "!pip install pdf2image pytesseract opencv-python-headless\n"
      ],
      "metadata": {
        "colab": {
          "base_uri": "https://localhost:8080/"
        },
        "id": "gemPwAMp3KDu",
        "outputId": "70c97321-86aa-413a-e9a9-1ba3b3fefcda"
      },
      "execution_count": null,
      "outputs": [
        {
          "output_type": "stream",
          "name": "stdout",
          "text": [
            "Reading package lists... Done\n",
            "Building dependency tree... Done\n",
            "Reading state information... Done\n",
            "poppler-utils is already the newest version (22.02.0-2ubuntu0.6).\n",
            "0 upgraded, 0 newly installed, 0 to remove and 22 not upgraded.\n",
            "Requirement already satisfied: pdf2image in /usr/local/lib/python3.11/dist-packages (1.17.0)\n",
            "Requirement already satisfied: pytesseract in /usr/local/lib/python3.11/dist-packages (0.3.13)\n",
            "Requirement already satisfied: opencv-python-headless in /usr/local/lib/python3.11/dist-packages (4.11.0.86)\n",
            "Requirement already satisfied: pillow in /usr/local/lib/python3.11/dist-packages (from pdf2image) (11.1.0)\n",
            "Requirement already satisfied: packaging>=21.3 in /usr/local/lib/python3.11/dist-packages (from pytesseract) (24.2)\n",
            "Requirement already satisfied: numpy>=1.21.2 in /usr/local/lib/python3.11/dist-packages (from opencv-python-headless) (1.26.4)\n"
          ]
        }
      ]
    },
    {
      "cell_type": "code",
      "source": [
        "import pytesseract\n",
        "\n",
        "# Set the path to the Tesseract binary\n",
        "pytesseract.pytesseract.tesseract_cmd = \"/usr/bin/tesseract\"\n",
        "\n",
        "# Verify installation\n",
        "print(\"Tesseract Version:\", pytesseract.get_tesseract_version())\n"
      ],
      "metadata": {
        "colab": {
          "base_uri": "https://localhost:8080/"
        },
        "id": "CoFpwZcY4WUl",
        "outputId": "96d43cc5-8a21-4c33-8193-eab76fd0aa37"
      },
      "execution_count": null,
      "outputs": [
        {
          "output_type": "stream",
          "name": "stdout",
          "text": [
            "Tesseract Version: 4.1.1\n"
          ]
        }
      ]
    },
    {
      "cell_type": "code",
      "source": [
        "import os\n",
        "import logging\n",
        "import asyncio\n",
        "import traceback\n",
        "from concurrent.futures import ThreadPoolExecutor\n",
        "from pdf2image import convert_from_path\n",
        "import pytesseract\n",
        "import cv2\n",
        "import numpy as np\n",
        "from PIL import Image"
      ],
      "metadata": {
        "id": "HzVX19lR3Des"
      },
      "execution_count": null,
      "outputs": []
    },
    {
      "cell_type": "code",
      "execution_count": null,
      "metadata": {
        "id": "n52VOgRI3AMk"
      },
      "outputs": [],
      "source": [
        "\n",
        "def preprocess_image(image):\n",
        "    gray = cv2.cvtColor(np.array(image), cv2.COLOR_RGB2GRAY)\n",
        "    gray = cv2.threshold(gray, 0, 255, cv2.THRESH_BINARY | cv2.THRESH_OTSU)[1]\n",
        "    kernel = np.ones((1, 1), np.uint8)\n",
        "    gray = cv2.dilate(gray, kernel, iterations=1)\n",
        "    return Image.fromarray(gray)\n",
        "\n",
        "def convert_pdf_to_images(input_pdf_file_path: str, max_pages: int = 0, skip_first_n_pages: int = 0):\n",
        "    logging.info(f\"Processing PDF file {input_pdf_file_path}\")\n",
        "    first_page = skip_first_n_pages + 1\n",
        "    last_page = None if max_pages == 0 else first_page + max_pages - 1\n",
        "    images = convert_from_path(input_pdf_file_path, first_page=first_page, last_page=last_page)\n",
        "    logging.info(f\"Converted {len(images)} pages from PDF file to images.\")\n",
        "    return images\n",
        "\n",
        "def ocr_image(image):\n",
        "    \"\"\"Perform OCR on a single image.\"\"\"\n",
        "    preprocessed_image = preprocess_image(image)\n",
        "    return pytesseract.image_to_string(preprocessed_image)\n",
        "\n",
        "def main():\n",
        "    try:\n",
        "        logging.basicConfig(level=logging.INFO)\n",
        "        input_pdf_file_path = 'samplepic.pdf'\n",
        "        max_test_pages = 0\n",
        "        skip_first_n_pages = 0\n",
        "\n",
        "        base_name = os.path.splitext(input_pdf_file_path)[0]\n",
        "        raw_ocr_output_file_path = f\"{base_name}__raw_ocr_output.txt\"\n",
        "\n",
        "        list_of_scanned_images = convert_pdf_to_images(input_pdf_file_path, max_test_pages, skip_first_n_pages)\n",
        "        logging.info(f\"Tesseract version: {pytesseract.get_tesseract_version()}\")\n",
        "        logging.info(\"Extracting text from converted pages...\")\n",
        "\n",
        "        with ThreadPoolExecutor() as executor:\n",
        "            list_of_extracted_text_strings = list(executor.map(ocr_image, list_of_scanned_images))\n",
        "\n",
        "        raw_ocr_output = \"\\n\".join(list_of_extracted_text_strings)\n",
        "        with open(raw_ocr_output_file_path, \"w\") as f:\n",
        "            f.write(raw_ocr_output)\n",
        "\n",
        "        logging.info(f\"Raw OCR output written to: {raw_ocr_output_file_path}\")\n",
        "\n",
        "    except Exception as e:\n",
        "        logging.error(f\"An error occurred: {e}\")\n",
        "        logging.error(traceback.format_exc())\n",
        "\n",
        "if __name__ == '__main__':\n",
        "    main()\n"
      ]
    }
  ]
}